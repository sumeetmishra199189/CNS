{
 "cells": [
  {
   "cell_type": "code",
   "execution_count": 1,
   "metadata": {},
   "outputs": [
    {
     "data": {
      "text/plain": [
       "'\\nEsmé Middaugh\\n2019JAN15\\nThis notebook merges the yearly CDC prescription data into one csv, combining the separate files for 2006 through 2016\\ninto one and appending a column with the appropriate year. \\n'"
      ]
     },
     "execution_count": 1,
     "metadata": {},
     "output_type": "execute_result"
    }
   ],
   "source": [
    "\"\"\"\n",
    "Esmé Middaugh\n",
    "2019JAN15\n",
    "\n",
    "This notebook merges the yearly CDC prescription data into one csv, combining the separate files for 2006 through 2016\n",
    "into one and appending a column with the appropriate year. \n",
    "\"\"\"\n"
   ]
  },
  {
   "cell_type": "code",
   "execution_count": 2,
   "metadata": {},
   "outputs": [],
   "source": [
    "import os\n",
    "import pandas as pd "
   ]
  },
  {
   "cell_type": "code",
   "execution_count": 3,
   "metadata": {},
   "outputs": [
    {
     "name": "stdout",
     "output_type": "stream",
     "text": [
      "Empty DataFrame\n",
      "Columns: [State, State.ABBR, Prescribing.Rate, Year]\n",
      "Index: []\n",
      "['State' 'State.ABBR' 'Prescribing.Rate' 'Year']\n",
      "['State' 'State.ABBR' 'Prescribing.Rate' 'Year']\n",
      "['State' 'State.ABBR' 'Prescribing.Rate' 'Year']\n",
      "['State' 'State.ABBR' 'Prescribing.Rate' 'Year']\n",
      "['State' 'State.ABBR' 'Prescribing.Rate' 'Year']\n",
      "['State' 'State.ABBR' 'Prescribing.Rate' 'Year']\n",
      "['State' 'State.ABBR' 'Prescribing.Rate' 'Year']\n",
      "['State' 'State.ABBR' 'Prescribing.Rate' 'Year']\n",
      "['State' 'State.ABBR' 'Prescribing.Rate' 'Year']\n",
      "['State' 'State.ABBR' 'Prescribing.Rate' 'Year']\n",
      "['State' 'State.ABBR' 'Prescribing.Rate' 'Year']\n"
     ]
    }
   ],
   "source": [
    "\n",
    "merged_df = pd.DataFrame(columns=['State','State.ABBR','Prescribing.Rate', 'Year'])\n",
    "print(merged_df)\n",
    "\n",
    "folder = '../data/2006_2016_prescription_data/' # This assumes you are in 'code' and 'data' is another file within parent directory\n",
    "for fname in os.listdir(folder):\n",
    "    file_address = folder + fname\n",
    "    with open(file_address) as f:\n",
    "        if fname.endswith('.csv'): #Each file name is just the given year, so we can use this to create the column. Getting rid of .csv\n",
    "            year = fname[:-4]\n",
    "        year_df = pd.read_csv(f, usecols=['State','State.ABBR','X' + year + '.Prescribing.Rate']) #Getting the useful columns. Year changes for each file \n",
    "        year_df.columns = ['State','State.ABBR','Prescribing.Rate']\n",
    "        year_df['Year'] = year #Creating new column with the year of the invdividual file; changes depending on file \n",
    "        merged_df = merged_df.append(year_df)\n",
    "        print(year_df.columns.values)"
   ]
  },
  {
   "cell_type": "code",
   "execution_count": 4,
   "metadata": {},
   "outputs": [
    {
     "name": "stdout",
     "output_type": "stream",
     "text": [
      "<class 'pandas.core.frame.DataFrame'>\n",
      "Int64Index: 561 entries, 0 to 50\n",
      "Data columns (total 4 columns):\n",
      "State               561 non-null object\n",
      "State.ABBR          561 non-null object\n",
      "Prescribing.Rate    561 non-null float64\n",
      "Year                561 non-null object\n",
      "dtypes: float64(1), object(3)\n",
      "memory usage: 21.9+ KB\n"
     ]
    },
    {
     "data": {
      "text/plain": [
       "\"\\nBasic Stats: \\n<class 'pandas.core.frame.DataFrame'>\\nInt64Index: 561 entries, 0 to 50\\nData columns (total 4 columns):\\nState               561 non-null object\\nState.ABBR          561 non-null object\\nPrescribing.Rate    561 non-null float64\\nYear                561 non-null object\\ndtypes: float64(1), object(3)\\nmemory usage: 21.9+ KB\\n\\n\\n4 columns, 561 rows. Year ranges from 2006 to 2016. \\nThere are 561 rows because each year contains the data on the 51 states; 11 years times 51 states = 561\\nThe stats on the prescription rates are:\\n\\n\\nPrescribing.Rate\\ncount\\t561.000000\\nmean\\t80.958824\\nstd\\t22.991621\\nmin\\t31.700000\\n25%\\t64.300000\\n50%\\t79.700000\\n75%\\t93.100000\\nmax\\t146.900000\\n\\n\""
      ]
     },
     "execution_count": 4,
     "metadata": {},
     "output_type": "execute_result"
    }
   ],
   "source": [
    "merged_df.info()\n",
    "merged_df.describe()\n",
    "\n",
    "\"\"\"\n",
    "Basic Stats: \n",
    "<class 'pandas.core.frame.DataFrame'>\n",
    "Int64Index: 561 entries, 0 to 50\n",
    "Data columns (total 4 columns):\n",
    "State               561 non-null object\n",
    "State.ABBR          561 non-null object\n",
    "Prescribing.Rate    561 non-null float64\n",
    "Year                561 non-null object\n",
    "dtypes: float64(1), object(3)\n",
    "memory usage: 21.9+ KB\n",
    "\n",
    "\n",
    "4 columns, 561 rows. Year ranges from 2006 to 2016. \n",
    "There are 561 rows because each year contains the data on the 51 states; 11 years times 51 states = 561\n",
    "The stats on the prescription rates are:\n",
    "\n",
    "\n",
    "Prescribing.Rate\n",
    "count\t561.000000\n",
    "mean\t80.958824\n",
    "std\t22.991621\n",
    "min\t31.700000\n",
    "25%\t64.300000\n",
    "50%\t79.700000\n",
    "75%\t93.100000\n",
    "max\t146.900000\n",
    "\n",
    "\"\"\"\n"
   ]
  },
  {
   "cell_type": "code",
   "execution_count": 5,
   "metadata": {},
   "outputs": [],
   "source": [
    "## Write the merged prescription dataframe back to a csv\n",
    "merged_df.to_csv('../data/merged_cdc_prescription_2006_2016.csv')\n"
   ]
  },
  {
   "cell_type": "code",
   "execution_count": 6,
   "metadata": {},
   "outputs": [
    {
     "data": {
      "text/html": [
       "<div>\n",
       "<style scoped>\n",
       "    .dataframe tbody tr th:only-of-type {\n",
       "        vertical-align: middle;\n",
       "    }\n",
       "\n",
       "    .dataframe tbody tr th {\n",
       "        vertical-align: top;\n",
       "    }\n",
       "\n",
       "    .dataframe thead th {\n",
       "        text-align: right;\n",
       "    }\n",
       "</style>\n",
       "<table border=\"1\" class=\"dataframe\">\n",
       "  <thead>\n",
       "    <tr style=\"text-align: right;\">\n",
       "      <th></th>\n",
       "      <th>State</th>\n",
       "      <th>State.ABBR</th>\n",
       "      <th>Prescribing.Rate</th>\n",
       "      <th>Year</th>\n",
       "    </tr>\n",
       "  </thead>\n",
       "  <tbody>\n",
       "    <tr>\n",
       "      <th>0</th>\n",
       "      <td>Alabama</td>\n",
       "      <td>AL</td>\n",
       "      <td>115.6</td>\n",
       "      <td>2006</td>\n",
       "    </tr>\n",
       "    <tr>\n",
       "      <th>1</th>\n",
       "      <td>Alaska</td>\n",
       "      <td>AK</td>\n",
       "      <td>63.4</td>\n",
       "      <td>2006</td>\n",
       "    </tr>\n",
       "    <tr>\n",
       "      <th>2</th>\n",
       "      <td>Arizona</td>\n",
       "      <td>AZ</td>\n",
       "      <td>74.3</td>\n",
       "      <td>2006</td>\n",
       "    </tr>\n",
       "    <tr>\n",
       "      <th>3</th>\n",
       "      <td>Arkansas</td>\n",
       "      <td>AR</td>\n",
       "      <td>98.3</td>\n",
       "      <td>2006</td>\n",
       "    </tr>\n",
       "    <tr>\n",
       "      <th>4</th>\n",
       "      <td>California</td>\n",
       "      <td>CA</td>\n",
       "      <td>51.0</td>\n",
       "      <td>2006</td>\n",
       "    </tr>\n",
       "  </tbody>\n",
       "</table>\n",
       "</div>"
      ],
      "text/plain": [
       "        State State.ABBR  Prescribing.Rate  Year\n",
       "0     Alabama         AL             115.6  2006\n",
       "1      Alaska         AK              63.4  2006\n",
       "2     Arizona         AZ              74.3  2006\n",
       "3    Arkansas         AR              98.3  2006\n",
       "4  California         CA              51.0  2006"
      ]
     },
     "execution_count": 6,
     "metadata": {},
     "output_type": "execute_result"
    }
   ],
   "source": [
    "merged_df.head()"
   ]
  },
  {
   "cell_type": "code",
   "execution_count": null,
   "metadata": {},
   "outputs": [],
   "source": []
  }
 ],
 "metadata": {
  "kernelspec": {
   "display_name": "Python 3",
   "language": "python",
   "name": "python3"
  },
  "language_info": {
   "codemirror_mode": {
    "name": "ipython",
    "version": 3
   },
   "file_extension": ".py",
   "mimetype": "text/x-python",
   "name": "python",
   "nbconvert_exporter": "python",
   "pygments_lexer": "ipython3",
   "version": "3.7.1"
  }
 },
 "nbformat": 4,
 "nbformat_minor": 2
}
